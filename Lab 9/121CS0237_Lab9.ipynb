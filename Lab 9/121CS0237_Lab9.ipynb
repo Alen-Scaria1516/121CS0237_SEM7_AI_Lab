{
 "cells": [
  {
   "cell_type": "markdown",
   "id": "a8534884-01e4-443a-bc57-b2f3f1ea80de",
   "metadata": {},
   "source": [
    "## Heart Disease Prediction Using Bayes Theorem"
   ]
  },
  {
   "cell_type": "code",
   "execution_count": 4,
   "id": "f4ad6cd9",
   "metadata": {},
   "outputs": [],
   "source": [
    "import pandas as pd\n",
    "import numpy as np"
   ]
  },
  {
   "cell_type": "code",
   "execution_count": 6,
   "id": "3301eee6",
   "metadata": {},
   "outputs": [],
   "source": [
    "data_url = \"https://archive.ics.uci.edu/ml/machine-learning-databases/heart-disease/processed.cleveland.data\"\n",
    "columns = ['age', 'sex', 'cp', 'trestbps', 'chol', 'fbs', 'restecg', 'thalach', \n",
    "           'exang', 'oldpeak', 'slope', 'ca', 'thal', 'target']"
   ]
  },
  {
   "cell_type": "code",
   "execution_count": 8,
   "id": "d31e36f5",
   "metadata": {},
   "outputs": [],
   "source": [
    "data = pd.read_csv(data_url, names=columns, na_values=\"?\")\n",
    "data = data.dropna()"
   ]
  },
  {
   "cell_type": "code",
   "execution_count": 10,
   "id": "8dc32672",
   "metadata": {},
   "outputs": [
    {
     "data": {
      "text/html": [
       "<div>\n",
       "<style scoped>\n",
       "    .dataframe tbody tr th:only-of-type {\n",
       "        vertical-align: middle;\n",
       "    }\n",
       "\n",
       "    .dataframe tbody tr th {\n",
       "        vertical-align: top;\n",
       "    }\n",
       "\n",
       "    .dataframe thead th {\n",
       "        text-align: right;\n",
       "    }\n",
       "</style>\n",
       "<table border=\"1\" class=\"dataframe\">\n",
       "  <thead>\n",
       "    <tr style=\"text-align: right;\">\n",
       "      <th></th>\n",
       "      <th>age</th>\n",
       "      <th>sex</th>\n",
       "      <th>cp</th>\n",
       "      <th>trestbps</th>\n",
       "      <th>chol</th>\n",
       "      <th>fbs</th>\n",
       "      <th>restecg</th>\n",
       "      <th>thalach</th>\n",
       "      <th>exang</th>\n",
       "      <th>oldpeak</th>\n",
       "      <th>slope</th>\n",
       "      <th>ca</th>\n",
       "      <th>thal</th>\n",
       "      <th>target</th>\n",
       "    </tr>\n",
       "  </thead>\n",
       "  <tbody>\n",
       "    <tr>\n",
       "      <th>0</th>\n",
       "      <td>63.0</td>\n",
       "      <td>1.0</td>\n",
       "      <td>1.0</td>\n",
       "      <td>145.0</td>\n",
       "      <td>233.0</td>\n",
       "      <td>1.0</td>\n",
       "      <td>2.0</td>\n",
       "      <td>150.0</td>\n",
       "      <td>0.0</td>\n",
       "      <td>2.3</td>\n",
       "      <td>3.0</td>\n",
       "      <td>0.0</td>\n",
       "      <td>6.0</td>\n",
       "      <td>0</td>\n",
       "    </tr>\n",
       "    <tr>\n",
       "      <th>1</th>\n",
       "      <td>67.0</td>\n",
       "      <td>1.0</td>\n",
       "      <td>4.0</td>\n",
       "      <td>160.0</td>\n",
       "      <td>286.0</td>\n",
       "      <td>0.0</td>\n",
       "      <td>2.0</td>\n",
       "      <td>108.0</td>\n",
       "      <td>1.0</td>\n",
       "      <td>1.5</td>\n",
       "      <td>2.0</td>\n",
       "      <td>3.0</td>\n",
       "      <td>3.0</td>\n",
       "      <td>2</td>\n",
       "    </tr>\n",
       "    <tr>\n",
       "      <th>2</th>\n",
       "      <td>67.0</td>\n",
       "      <td>1.0</td>\n",
       "      <td>4.0</td>\n",
       "      <td>120.0</td>\n",
       "      <td>229.0</td>\n",
       "      <td>0.0</td>\n",
       "      <td>2.0</td>\n",
       "      <td>129.0</td>\n",
       "      <td>1.0</td>\n",
       "      <td>2.6</td>\n",
       "      <td>2.0</td>\n",
       "      <td>2.0</td>\n",
       "      <td>7.0</td>\n",
       "      <td>1</td>\n",
       "    </tr>\n",
       "    <tr>\n",
       "      <th>3</th>\n",
       "      <td>37.0</td>\n",
       "      <td>1.0</td>\n",
       "      <td>3.0</td>\n",
       "      <td>130.0</td>\n",
       "      <td>250.0</td>\n",
       "      <td>0.0</td>\n",
       "      <td>0.0</td>\n",
       "      <td>187.0</td>\n",
       "      <td>0.0</td>\n",
       "      <td>3.5</td>\n",
       "      <td>3.0</td>\n",
       "      <td>0.0</td>\n",
       "      <td>3.0</td>\n",
       "      <td>0</td>\n",
       "    </tr>\n",
       "    <tr>\n",
       "      <th>4</th>\n",
       "      <td>41.0</td>\n",
       "      <td>0.0</td>\n",
       "      <td>2.0</td>\n",
       "      <td>130.0</td>\n",
       "      <td>204.0</td>\n",
       "      <td>0.0</td>\n",
       "      <td>2.0</td>\n",
       "      <td>172.0</td>\n",
       "      <td>0.0</td>\n",
       "      <td>1.4</td>\n",
       "      <td>1.0</td>\n",
       "      <td>0.0</td>\n",
       "      <td>3.0</td>\n",
       "      <td>0</td>\n",
       "    </tr>\n",
       "  </tbody>\n",
       "</table>\n",
       "</div>"
      ],
      "text/plain": [
       "    age  sex   cp  trestbps   chol  fbs  restecg  thalach  exang  oldpeak  \\\n",
       "0  63.0  1.0  1.0     145.0  233.0  1.0      2.0    150.0    0.0      2.3   \n",
       "1  67.0  1.0  4.0     160.0  286.0  0.0      2.0    108.0    1.0      1.5   \n",
       "2  67.0  1.0  4.0     120.0  229.0  0.0      2.0    129.0    1.0      2.6   \n",
       "3  37.0  1.0  3.0     130.0  250.0  0.0      0.0    187.0    0.0      3.5   \n",
       "4  41.0  0.0  2.0     130.0  204.0  0.0      2.0    172.0    0.0      1.4   \n",
       "\n",
       "   slope   ca  thal  target  \n",
       "0    3.0  0.0   6.0       0  \n",
       "1    2.0  3.0   3.0       2  \n",
       "2    2.0  2.0   7.0       1  \n",
       "3    3.0  0.0   3.0       0  \n",
       "4    1.0  0.0   3.0       0  "
      ]
     },
     "execution_count": 10,
     "metadata": {},
     "output_type": "execute_result"
    }
   ],
   "source": [
    "data.head()"
   ]
  },
  {
   "cell_type": "code",
   "execution_count": 12,
   "id": "5caeb547",
   "metadata": {},
   "outputs": [],
   "source": [
    "data = data[['age','cp', 'trestbps', 'chol', 'target']]"
   ]
  },
  {
   "cell_type": "markdown",
   "id": "9e8bbdf2-b06e-4925-b810-ff0c6f4d2a3a",
   "metadata": {},
   "source": [
    "Bayes' Theorem for Multiple Evidence Variables:\n",
    "\n",
    "$$\n",
    "P(H|E) = \\frac{P(H) \\cdot P(E_1|H) \\cdot P(E_2|H) \\cdots P(E_n|H)}{P(E)}\n",
    "$$\n",
    "\n",
    "Where:\n",
    "- \\( H \\) is the hypothesis (e.g., the patient has heart disease).\n",
    "- \\( E_1, E_2, \\ldots, E_n \\) are the individual pieces of evidence (features).\n",
    "\n",
    "Marginal Probability:\n",
    "\n",
    "$$\n",
    "P(E) = P(E|H) \\cdot P(H) + P(E|¬H) \\cdot P(¬H)\n",
    "$$\n",
    "\n",
    "For a new patient with observed features \\( E_1, E_2, E_3 \\):\n",
    "\n",
    "$$\n",
    "P(H|E) \\propto P(H) \\cdot P(E_1|H) \\cdot P(E_2|H) \\cdots P(E_n|H)\n",
    "$$\n",
    "\n",
    "And for the alternative hypothesis:\n",
    "\n",
    "$$\n",
    "P(¬H|E) = P(¬H) \\cdot P(E_1|¬H) \\cdot P(E_2|¬H) \\cdots P(E_n|¬H)\n",
    "$$"
   ]
  },
  {
   "cell_type": "code",
   "execution_count": 14,
   "id": "fc7d1723",
   "metadata": {},
   "outputs": [],
   "source": [
    "def calculate_conditional_probabilities(data, feature, value, target_class):\n",
    "    subset = data[data[feature] == value]\n",
    "    target_subset = subset[subset['target'] == target_class]\n",
    "    return len(target_subset) / len(subset) if len(subset) > 0 else 0"
   ]
  },
  {
   "cell_type": "code",
   "execution_count": 16,
   "id": "30d73b9a",
   "metadata": {},
   "outputs": [],
   "source": [
    "def calculate_prior(data, target_class):\n",
    "    return len(data[data['target'] == target_class]) / len(data)"
   ]
  },
  {
   "cell_type": "code",
   "execution_count": 18,
   "id": "cea22ce2",
   "metadata": {},
   "outputs": [],
   "source": [
    "def predict_heart_disease(cp, trestbps, chol):\n",
    "    \n",
    "    prior_disease = calculate_prior(data, 1)\n",
    "    prior_no_disease = calculate_prior(data, 0)\n",
    "\n",
    "    # Calculate likelihood for target = 1\n",
    "    prob_cp_given_disease = calculate_conditional_probabilities(data, 'cp', cp, 1)\n",
    "    prob_trestbps_given_disease = calculate_conditional_probabilities(data, 'trestbps', trestbps, 1)\n",
    "    prob_chol_given_disease = calculate_conditional_probabilities(data, 'chol', chol, 1)\n",
    "    likelihood_disease = prob_cp_given_disease * prob_trestbps_given_disease * prob_chol_given_disease\n",
    "\n",
    "    # Calculate likelihood for target = 0\n",
    "    prob_cp_given_no_disease = calculate_conditional_probabilities(data, 'cp', cp, 0)\n",
    "    prob_trestbps_given_no_disease = calculate_conditional_probabilities(data, 'trestbps', trestbps, 0)\n",
    "    prob_chol_given_no_disease = calculate_conditional_probabilities(data, 'chol', chol, 0)\n",
    "    likelihood_no_disease = prob_cp_given_no_disease * prob_trestbps_given_no_disease * prob_chol_given_no_disease\n",
    "\n",
    "    # Posterior probabilities\n",
    "    posterior_disease = likelihood_disease * prior_disease\n",
    "    posterior_no_disease = likelihood_no_disease * prior_no_disease\n",
    "\n",
    "    \n",
    "    if posterior_disease > posterior_no_disease:\n",
    "        return 1  \n",
    "    else:\n",
    "        return 0  "
   ]
  },
  {
   "cell_type": "code",
   "execution_count": 20,
   "id": "e5524b05",
   "metadata": {},
   "outputs": [],
   "source": [
    "test_cases = [\n",
    "    {'cp': 2, 'trestbps': 140, 'chol': 230},\n",
    "    {'cp': 1, 'trestbps': 120, 'chol': 200},\n",
    "    {'cp': 3, 'trestbps': 150, 'chol': 260},\n",
    "    {'cp': 2, 'trestbps': 130, 'chol': 220},\n",
    "    {'cp': 1, 'trestbps': 160, 'chol': 300}\n",
    "]"
   ]
  },
  {
   "cell_type": "code",
   "execution_count": 22,
   "id": "71d3d3b2",
   "metadata": {},
   "outputs": [
    {
     "name": "stdout",
     "output_type": "stream",
     "text": [
      "Test Case 1: cp=2, trestbps=140, chol=230 -> Prediction: 1\n",
      "Test Case 2: cp=1, trestbps=120, chol=200 -> Prediction: 0\n",
      "Test Case 3: cp=3, trestbps=150, chol=260 -> Prediction: 0\n",
      "Test Case 4: cp=2, trestbps=130, chol=220 -> Prediction: 0\n",
      "Test Case 5: cp=1, trestbps=160, chol=300 -> Prediction: 1\n"
     ]
    }
   ],
   "source": [
    "for i, test in enumerate(test_cases, start=1):\n",
    "    prediction = predict_heart_disease(test['cp'], test['trestbps'], test['chol'])\n",
    "    print(f\"Test Case {i}: cp={test['cp']}, trestbps={test['trestbps']}, chol={test['chol']} -> Prediction: {prediction}\")"
   ]
  }
 ],
 "metadata": {
  "kernelspec": {
   "display_name": "Python 3 (ipykernel)",
   "language": "python",
   "name": "python3"
  },
  "language_info": {
   "codemirror_mode": {
    "name": "ipython",
    "version": 3
   },
   "file_extension": ".py",
   "mimetype": "text/x-python",
   "name": "python",
   "nbconvert_exporter": "python",
   "pygments_lexer": "ipython3",
   "version": "3.12.4"
  }
 },
 "nbformat": 4,
 "nbformat_minor": 5
}
