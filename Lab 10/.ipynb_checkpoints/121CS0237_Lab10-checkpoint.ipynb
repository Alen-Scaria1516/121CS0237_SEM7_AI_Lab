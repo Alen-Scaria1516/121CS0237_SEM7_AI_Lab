{
 "cells": [
  {
   "cell_type": "markdown",
   "id": "2c10cf29-cde1-4f49-a509-6bd155ad14fe",
   "metadata": {},
   "source": [
    "## Simple Bayesian Network Inference "
   ]
  },
  {
   "cell_type": "code",
   "execution_count": 8,
   "id": "22a56e89-9196-4418-b3af-82f3acb80d24",
   "metadata": {},
   "outputs": [],
   "source": [
    "# Define the prior probabilities\n",
    "P_D = {\"Easy\": 0.6, \"Hard\": 0.4}\n",
    "P_I = {\"High\": 0.7, \"Low\": 0.3}\n",
    "\n",
    "# Define the conditional probabilities for Grade (G) given Difficulty (D) and Intelligence (I)\n",
    "P_G_given_DI = {\n",
    "    (\"Easy\", \"High\"): {\"A\": 0.3, \"B\": 0.4, \"C\": 0.3},\n",
    "    (\"Hard\", \"High\"): {\"A\": 0.05, \"B\": 0.25, \"C\": 0.7},\n",
    "    (\"Easy\", \"Low\"): {\"A\": 0.9, \"B\": 0.08, \"C\": 0.02},\n",
    "    (\"Hard\", \"Low\"): {\"A\": 0.5, \"B\": 0.3, \"C\": 0.2}\n",
    "}\n",
    "\n",
    "# Define the conditional probabilities for Letter of Recommendation (L) given Grade (G)\n",
    "P_L_given_G = {\n",
    "    \"A\": {\"Yes\": 0.9, \"No\": 0.1},\n",
    "    \"B\": {\"Yes\": 0.7, \"No\": 0.3},\n",
    "    \"C\": {\"Yes\": 0.1, \"No\": 0.9}\n",
    "}"
   ]
  },
  {
   "cell_type": "code",
   "execution_count": 14,
   "id": "23030eda-5b66-4489-beb2-e86a06ceb21d",
   "metadata": {},
   "outputs": [
    {
     "name": "stdout",
     "output_type": "stream",
     "text": [
      "Test Case 1: I = High, D = Easy -> Probability (L = Yes) : 0.580\n",
      "Test Case 2: I = High, D = Hard -> Probability (L = Yes) : 0.290\n",
      "Test Case 3: I = Low, D = Easy -> Probability (L = Yes) : 0.868\n",
      "Test Case 4: I = Low, D = Hard -> Probability (L = Yes) : 0.680\n",
      "Test Case 5: I = High, D = Easy -> Probability (L = No) : 0.420\n"
     ]
    }
   ],
   "source": [
    "# Function to compute P(L = Yes | I, D) or P(L = No | I, D)\n",
    "def compute_probability_L_given_DI(I, D, L_value):\n",
    "    # Calculate P(L | I, D) by summing over all possible grades G\n",
    "    probability = 0\n",
    "    for G in [\"A\", \"B\", \"C\"]:\n",
    "        P_G = P_G_given_DI[(D, I)][G]\n",
    "        P_L_given_G_value = P_L_given_G[G][L_value]\n",
    "        probability += P_G * P_L_given_G_value\n",
    "    return probability\n",
    "\n",
    "# Function to get both probabilities P(L = Yes | I, D) and P(L = No | I, D)\n",
    "def get_letter_recommendation_probabilities(I, D):\n",
    "    P_L_yes = compute_probability_L_given_DI(I, D, \"Yes\")\n",
    "    P_L_no = compute_probability_L_given_DI(I, D, \"No\")\n",
    "    return {\"P(L=Yes)\": P_L_yes, \"P(L=No)\": P_L_no}\n",
    "\n",
    "# Function to compute the probability for a specific L value given I and D\n",
    "def get_letter_recommendation_probability(I, D, L_value):\n",
    "    return compute_probability_L_given_DI(I, D, L_value)\n",
    "\n",
    "# Test cases with specific outcomes for L\n",
    "test_cases = [\n",
    "    (\"High\", \"Easy\", \"Yes\"),  # Test Case 1: I = High, D = Easy, L = Yes\n",
    "    (\"High\", \"Hard\", \"Yes\"),  # Test Case 2: I = High, D = Hard, L = Yes\n",
    "    (\"Low\", \"Easy\", \"Yes\"),   # Test Case 3: I = Low, D = Easy, L = Yes\n",
    "    (\"Low\", \"Hard\", \"Yes\"),   # Test Case 4: I = Low, D = Hard, L = Yes\n",
    "    (\"High\", \"Easy\", \"No\")    # Test Case 5: I = High, D = Easy, L = No\n",
    "]\n",
    "\n",
    "# Calculate and print the probability for each specific test case with formatted output\n",
    "for idx, (I, D, L_value) in enumerate(test_cases, start=1):\n",
    "    probability = get_letter_recommendation_probability(I, D, L_value)\n",
    "    print(f\"Test Case {idx}: I = {I}, D = {D} -> Probability (L = {L_value}) : {probability:.3f}\")"
   ]
  }
 ],
 "metadata": {
  "kernelspec": {
   "display_name": "Python 3 (ipykernel)",
   "language": "python",
   "name": "python3"
  },
  "language_info": {
   "codemirror_mode": {
    "name": "ipython",
    "version": 3
   },
   "file_extension": ".py",
   "mimetype": "text/x-python",
   "name": "python",
   "nbconvert_exporter": "python",
   "pygments_lexer": "ipython3",
   "version": "3.12.4"
  }
 },
 "nbformat": 4,
 "nbformat_minor": 5
}
